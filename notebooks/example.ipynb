{
 "cells": [
  {
   "cell_type": "markdown",
   "metadata": {},
   "source": [
    "# **Walkthrough for Data**"
   ]
  },
  {
   "cell_type": "markdown",
   "metadata": {},
   "source": [
    "First we need to run this to access the other files in the repository:"
   ]
  },
  {
   "cell_type": "code",
   "execution_count": null,
   "metadata": {},
   "outputs": [],
   "source": [
    "# To access the function\n",
    "import sys\n",
    "sys.path.append('../')"
   ]
  },
  {
   "cell_type": "markdown",
   "metadata": {},
   "source": [
    "## **Walkthrough for Data Pre-processing**"
   ]
  },
  {
   "cell_type": "markdown",
   "metadata": {},
   "source": [
    "To clean the data, we just need to run the following:"
   ]
  },
  {
   "cell_type": "code",
   "execution_count": null,
   "metadata": {},
   "outputs": [],
   "source": [
    "from utils.dataUtils import download_nmt, clean_data\n",
    "\n",
    "# Perform the actions\n",
    "download_nmt()\n",
    "clean_data()"
   ]
  },
  {
   "cell_type": "markdown",
   "metadata": {},
   "source": [
    "_Note:_ It takes around 1-2 hours to perform this, though, so it is recommended to instead download the datasets [here](https://amsuni-my.sharepoint.com/:f:/g/personal/gregory_go_student_uva_nl/EnzVCZAaSUJDvB-F66VVW-8B_BrvOwz_XSEB5N1_CDBezA?e=Alo4pK) (you first need to be logged in to your UvA account)."
   ]
  },
  {
   "cell_type": "markdown",
   "metadata": {},
   "source": [
    "## **Walkthrough for Dataloader**"
   ]
  },
  {
   "cell_type": "markdown",
   "metadata": {},
   "source": [
    "This is a simple walkthrough for how the dataloader works.\n",
    "\n",
    "It can be used in two ways:\n",
    "1. As a regular `torch` dataloader.\n",
    "2. To generate a DetectGPT compatible dataset.\n",
    "\n",
    "This is illustrated by the below cell:"
   ]
  },
  {
   "cell_type": "code",
   "execution_count": 1,
   "metadata": {},
   "outputs": [
    {
     "name": "stdout",
     "output_type": "stream",
     "text": [
      "Ternyata, beberapa minggu sebelumnya, pengemudi becak tersebut ditabrak oleh mobil ketika mengayuh becak di jalanan New Delhi yang sibuk.\n",
      "Meskipun ia telah mendapatkan obat dari apotek lokal untuk rasa sakit yang sangat memilukan– mungkin karena kakinya patah – ia tidak mempunyai waktu dan uang untuk menemui dokter bedah.\n",
      "Pertimbangan tragis ini sangat umum terjadi.\n",
      "0\n",
      "100\n"
     ]
    }
   ],
   "source": [
    "from utils.dataLoader import DetectionDataset\n",
    "\n",
    "# This creates the dataset for Indonesian\n",
    "DeData = DetectionDataset(language=\"id\", human_source=\"..\\\\human\", \n",
    "                          ai_source=\"..\\\\qwen\", sentence_mode=True, n_sentences=3)\n",
    "\n",
    "# To check the detectGPT data (and data in general)\n",
    "dgpt_data = DeData.get_detect_gpt_data()\n",
    "# print(dgpt_data)\n",
    "\n",
    "# To grab a random sample\n",
    "first_x, first_y = next(iter(DeData))\n",
    "print(first_x)\n",
    "print(first_y)\n",
    "\n",
    "print(len(DeData))"
   ]
  },
  {
   "cell_type": "code",
   "execution_count": null,
   "metadata": {},
   "outputs": [],
   "source": []
  }
 ],
 "metadata": {
  "kernelspec": {
   "display_name": "dl4nlp",
   "language": "python",
   "name": "python3"
  },
  "language_info": {
   "codemirror_mode": {
    "name": "ipython",
    "version": 3
   },
   "file_extension": ".py",
   "mimetype": "text/x-python",
   "name": "python",
   "nbconvert_exporter": "python",
   "pygments_lexer": "ipython3",
   "version": "3.11.9"
  }
 },
 "nbformat": 4,
 "nbformat_minor": 2
}
