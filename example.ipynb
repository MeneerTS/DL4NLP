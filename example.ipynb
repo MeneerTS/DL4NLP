{
 "cells": [
  {
   "cell_type": "markdown",
   "metadata": {},
   "source": [
    "# **Instructions for Dataloader**"
   ]
  },
  {
   "cell_type": "markdown",
   "metadata": {},
   "source": [
    "The cleaned dataset can be downloaded [here](https://amsuni-my.sharepoint.com/:u:/g/personal/gregory_go_student_uva_nl/EWaklAEKTKROoFf6TuH8GhkBUT6KmeaQ0bfgqGMPCaFDYA?e=TTKgoa). This removes all the erroneous text from the data.\n",
    "\n",
    "For how it works:"
   ]
  },
  {
   "cell_type": "code",
   "execution_count": 1,
   "metadata": {},
   "outputs": [
    {
     "name": "stdout",
     "output_type": "stream",
     "text": [
      "Slecht nieuws voor Amerika's werknemers\n",
      "\n",
      "NEW YORK – Wat hebben we, nu de nieuwe Amerikaanse president Donald Trump zijn kabinet vult, geleerd over de waarschijnlijke richting en impact van het economisch beleid van zijn regering?\n",
      "Natuurlijk blijven er enorme onzekerheden bestaan. Net als op veel andere gebieden zijn de beloften en uitspraken van Trump over het economisch beleid inconsistent geweest. Hoewel hij anderen routinematig van liegen beticht, lijken veel van zijn economische beweringen en beloften – om niet te zeggen zijn hele kijk op het regeren – de vergelijking met de propagandisten van Nazi-Duitsland glansrijk te kunnen doorstaan.\n",
      "Trump zal de leiding nemen over een economie die een sterke opwaartse trend vertoont, nu het bbp over het derde kwartaal op jaarbasis met een indrukwekkende 3,2% is gegroeid en de werkloosheid in november op 4,6% staat. Toen president Barack Obama daarentegen in 2009 het roer overnam van George W. Bush, erfde hij een economie die bezig was in een diepe recessie verzeild te raken. En net als Bush is Trump opnieuw een Republikeinse president die zal gaan regeren ondanks het feit dat hij minder stemmen heeft gekregen dan zijn rivale, onder het voorwendsel dat hij een mandaat heeft om extreem beleid te gaan voeren.\n",
      "De enige manier waarop Trump zijn beloften van hogere uitgaven aan de infrastructuur en de defensie zal weten te rijmen met grote belastingverlagingen en een verlaging van het begrotingstekort is een zware dosis van wat vroeger “voodoo-economics” werd genoemd. Na tientallen jaren van het “wegsnijden van het overtollige vet” in de overheid is er weinig vet meer over om weg te snijden: de werkgelegenheid bij de federale overheid als percentage van de totale bevolking is vandaag de dag lager dan in het tijdperk van de 'kleine overheid' onder president Ronald Reagan, zo'n dertig jaar geleden.\n",
      "Met zo veel voormalige militaire officieren in het kabinet van Trump of als adviseur is het waarschijnlijk dat de VS méér geld zullen uitgeven aan wapens die niet werken, om te gebruiken tegen vijanden die niet bestaan, ook al schurkt Trump tegen de Russische president Vladimir Poetin aan en creëert hij een informeel mondiaal bondgenootschap van dictators en autoritaire heersers. Als de minister van Volksgezondheid van Trump erin slaagt de zorgvuldige balanceerkunst ongedaan te maken die ten grondslag ligt aan Obamacare, zullen de kosten van de gezondheidszorg stijgen of zal de dienstverlening achteruit gaan – zeer waarschijnlijk allebei.\n",
      "Tijdens zijn verkiezingscampagne beloofde Trump stevig te zullen optreden tegen managers die Amerikaanse banen naar het buitenland overbrengen. Hij pronkt nu met het nieuws dat de firma Carrier zo'n 800 banen in de staat Indiana in stand zal houden, als bewijs dat zijn aanpak werkt. Maar de deal zal de belastingbetalers $7 mln kosten en de fabrikant van verwarmings- en airconditioningsapparatuur nog steeds in staat stellen 1300 banen naar Mexico te verplaatsen. Dit is geen gezond industrieel of economisch beleid, en het zal niet helpen de lonen te verhogen of goede werkgelegenheid te creëren. Het is een openlijke uitnodiging voor het chanteren van de overheid door bedrijfsfunctionarissen die op subsidies uit zijn.\n",
      "Op dezelfde manier zal de verhoging van de uitgaven aan infrastructuur waarschijnlijk worden bewerkstelligd via belastingvoordelen, die de hedgefondsen zullen helpen, maar niet de Amerikaanse overheidsbalans: het “track record” op de langere termijn van dergelijke programma's toont aan dat ze weinig waarde opleveren. De kosten voor het publiek zullen vooral hoog zijn in een tijdperk dat de overheid bijna tegen nultarief kan lenen. Als deze publiek-private bondgenootschappen net zo zijn als elders, zal de overheid de risico's dragen en zullen de hedgefondsen er met de winst vandoor gaan.\n",
      "Het debat van nog geen acht jaar geleden over infrastructuur die “shovel-ready” (“klaar voor de schop”) moet zijn, lijkt heel ver achter ons te liggen. Als Trump voor dit soort projecten kiest, zal de langetermijn-invloed op de productiviteit minimaal zijn; als hij kiest voor échte infrastructuurprojecten, zal de kortetermijninvloed op de economische groei minimaal zijn. En stimulansen die pas op de langere termijn rendement opleveren kennen zo hun eigen problemen, tenzij ze extreem zorgvuldig worden beheerd.\n",
      "Als de kandidaat van Trump om leiding te geven aan het Amerikaanse ministerie van Financiën, Goldman Sachs- en hedgefondsveteraan Steven Mnuchin, lijkt op anderen uit deze bedrijfstak, zal de expertise die hij meebrengt zich uitstrekken tot belastingontduiking, en niet tot het construeren van een goed ontworpen belastingstelsel. Het “goede” nieuws is dat belastinghervorming onvermijdelijk was, en waarschijnlijk zou zijn ondernomen door Paul Ryan (Speaker of the House) en zijn staf – waardoor de rijken het minder progressieve, kapitaal-vriendelijker belastingstelsel zouden krijgen waarnaar de Republikeinen lang op zoek zijn geweest. Met de afschaffing van de successiebelasting zouden de Republikeinen eindelijk hun lang-gekoesterde ambitie van het creëren van een dynastieke plutocratie kunnen verwezenlijken – wat ver afstaat van de “gelijkheid van kansen” die de partij ooit zei uit te willen dragen.\n",
      "Grote belastingverlagingen en grote stijgingen van de overheidsuitgaven leiden onvermijdelijk tot een hoger begrotingstekort. Het verzoenen hiervan met Trumps belofte om het tekort terug te dringen zal waarschijnlijk een terugkeer inhouden naar het magische denken uit het tijdperk van Reagan: ondanks decennia van bewijzen van het tegendeel, zullen de economische impulsen van belastingverlagingen voor de rijken ditmaal zó groot zijn dat de belastinginkomsten feitelijk zullen toenemen.\n",
      "Dit verhaal zal niet goed aflopen voor Trumps boze, ontheemde Rust Belt-kiezers. Een ongeremd begrotingsbeleid zal de US Federal Reserve (het federale stelsel van Amerikaanse centrale banken) ertoe brengen de rente sneller te normaliseren. Sommige leden van de Fed ontwaren een nakende inflatie (gezien de lage werkloosheid); sommigen geloven dat de lange periode van ultra-lage rentetarieven de kapitaalmarkten heeft ontwricht; en sommigen willen “hun munitie aanvullen”, zodat de Fed de rente kan verlagen zodra de economische groei opnieuw vertraagt.\n",
      "Trump heeft betoogd dat de Fed de rente moet verhogen. De Fed, die begin december de eerste stap naar normalisatie heeft gezet, zal hem vrijwel zeker terwille zijn – en Trump zal dat spoedig bezuren. Er is een gerede kans dat de monetaire krimp de begrotingsimpuls zal overtreffen, waardoor de groeispurt die onder Obama is ingezet zal worden beteugeld. Een hogere rente zal de werkgelegenheid in de bouw ondermijnen en de waarde van de dollar verhogen, wat zal leiden tot een groter tekort op de handelsbalans en minder werkgelegenheid in de industrie – precies het tegenovergestelde van wat Trump had beloofd. Bovendien zal zijn belastingbeleid van beperkt nut zijn voor gezinnen uit de middenklasse of de arbeidersklasse – en ruimschoots worden gecompenseerd door bezuinigingen in de gezondheidszorg, het onderwijs en de sociale voorzieningen.\n",
      "Als Trump een handelsoorlog begint – door bijvoorbeeld gevolg te geven aan zijn belofte om een tarief van 45% in te voeren op importen uit China en een muur te bouwen langs de Amerikaanse grens met Mexico – zal de economische impact zelfs nog ernstiger zijn. Trumps kabinet van miljardairs zou zijn Gucci-tasjes en Ivanka-armbanden van $10.000 kunnen blijven kopen, maar de kosten van het levensonderhoud van gewone Amerikanen zouden aanzienlijk stijgen; en zonder onderdelen uit Mexico en elders zouden arbeidsplaatsen in de industrie zelfs nog zeldzamer worden.\n",
      "Natuurlijk zullen er wel een paar nieuwe banen worden geschapen, met name bij de lobbyfirma's langs K Street in Washington, DC, als Trump het moeras gaat vullen dat hij heeft beloofd te zullen droogleggen. De poel van legale corruptie in de VS zal waarschijnlijk een omvang bereiken die niet meer is voorgekomen sinds de regering van president Warren G. Harding in de jaren twintig van de vorige eeuw.\n",
      "Er is werkelijk geen enkel zilveren randje te ontwaren aan de wolk die nu boven de VS en de wereld hangt. Zo slecht als zijn regering zal zijn voor de Amerikaanse economie en werknemers, zo schadelijk zal zijn beleid op het gebied van de klimaatverandering, de mensenrechten, de media en het waarborgen van vrede en veiligheid zijn voor de rest van de wereld.  \n",
      "0\n"
     ]
    }
   ],
   "source": [
    "from utils.dataloader import NewsDataset, select_universal_files\n",
    "\n",
    "# This selects all filenames that are available in all the specified folders\n",
    "# (So here for example: it selecst all filenames that are in the English, Chinese, and Dutch folders)\n",
    "filenames = select_universal_files([\"en\", \"zh\", \"nl\"])\n",
    "\n",
    "# This creates the dataset for Dutch\n",
    "EnData = NewsDataset(filenames, \"nl\")\n",
    "\n",
    "# This is just to grab a random example\n",
    "first_x, first_y = next(iter(EnData))\n",
    "\n",
    "print(first_x)\n",
    "print(first_y)"
   ]
  }
 ],
 "metadata": {
  "kernelspec": {
   "display_name": "dl4nlp",
   "language": "python",
   "name": "python3"
  },
  "language_info": {
   "codemirror_mode": {
    "name": "ipython",
    "version": 3
   },
   "file_extension": ".py",
   "mimetype": "text/x-python",
   "name": "python",
   "nbconvert_exporter": "python",
   "pygments_lexer": "ipython3",
   "version": "3.11.9"
  }
 },
 "nbformat": 4,
 "nbformat_minor": 2
}
